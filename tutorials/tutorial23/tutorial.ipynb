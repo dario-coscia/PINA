{
 "cells": [
  {
   "cell_type": "markdown",
   "id": "0c602c59",
   "metadata": {},
   "source": [
    "# Tutorial: Data-driven System Identification with SINDy\n",
    "\n",
    "[![Open In Colab](https://colab.research.google.com/assets/colab-badge.svg)](https://colab.research.google.com/github/mathLab/PINA/blob/master/tutorials/tutorial23/tutorial.ipynb)\n",
    "\n",
    "\n",
    "> ##### ⚠️ ***Before starting:***\n",
    "> We assume you are already familiar with the concepts covered in the [Getting started with PINA](https://mathlab.github.io/PINA/_tutorial.html#getting-started-with-pina) tutorial. If not, we strongly recommend reviewing them before exploring this advanced topic.\n",
    "\n",
    "In this tutorial, we will demonstrate a typical use case of **PINA** for Data-driven system identification using SINDy. The tutorial is largely inspired by the paper [Discovering governing equations from data by sparse identification of nonlinear dynamical systems](dx.doi.org/10.1073/pnas.1517384113).\n",
    "\n",
    "Let's start by importing the useful modules:"
   ]
  },
  {
   "cell_type": "code",
   "execution_count": null,
   "id": "3f1f226d",
   "metadata": {},
   "outputs": [],
   "source": [
    "## routine needed to run the notebook on Google Colab\n",
    "try:\n",
    "    import google.colab\n",
    "\n",
    "    IN_COLAB = True\n",
    "except:\n",
    "    IN_COLAB = False\n",
    "if IN_COLAB:\n",
    "    !pip install \"pina-mathlab[tutorial]\"\n",
    "\n",
    "import torch\n",
    "import numpy as np\n",
    "import matplotlib.pyplot as plt\n",
    "import warnings\n",
    "\n",
    "np.random.seed(0)\n",
    "warnings.filterwarnings(\"ignore\")\n",
    "\n",
    "from scipy.integrate import odeint\n",
    "from pina import Trainer, LabelTensor\n",
    "from pina.problem.zoo import SupervisedProblem\n",
    "from pina.solver import SupervisedSolver\n",
    "from pina.optim import TorchOptimizer\n",
    "from pina.model import SINDy"
   ]
  },
  {
   "cell_type": "markdown",
   "id": "1632a783",
   "metadata": {},
   "source": [
    "## Data generation\n",
    "In this tutorial, we'll focus on the **identification** of a dynamical system starting only from a finite set of **snapshots**.\n",
    "More precisely, we'll assume that the dynamics is governed by dynamical system written as follows:\n",
    "$$\\dot{\\boldsymbol{x}}(t)=\\boldsymbol{f}(\\boldsymbol{x}(t)),$$\n",
    "along with suitable initial conditions.\n",
    "For simplicity, we'll omit the argument of $\\boldsymbol{x}$ from this point onward.\n",
    "\n",
    "Since $\\boldsymbol{f}$ is unknown, we want to model it.\n",
    "While neural networks could be used to find an expression for $\\boldsymbol{f}$, in certain contexts - for instance, to perform long-horizon forecasting - it might be useful to have an **explicit** set of equations describing it, which would also allow for a better degree of **interpretability** of our model.\n",
    "\n",
    "As a result, we use SINDy (introduced in [this paper](https://www.pnas.org/doi/full/10.1073/pnas.1517384113)), which we'll describe later on.\n",
    "Now, instead, we describe the system that is going to be considered in this tutorial: the **Lorenz** system.\n",
    "\n",
    "The Lorenz system is a set of three ordinary differential equations and is a simplified model of atmospheric convection.\n",
    "It is well-known because it can exhibit chaotic behavior, _i.e._, for given values of the parameters solutions are highly sensitive to small perturbations in the initial conditions, making forecasting extremely challenging.\n",
    "\n",
    "Mathematically speaking, we can write the Lorenz equations as\n",
    "$$\n",
    "\\begin{cases}\n",
    "\\dot{x}=\\sigma(y-x)\\\\\n",
    "\\dot{y}=x(\\rho-z) - y\\\\\n",
    "\\dot{z}=xy-\\beta z.\n",
    "\\end{cases}\n",
    "$$\n",
    "With $\\sigma = 10,\\, \\rho = 28$, and $\\beta=8/3$, the solutions trace out the famous butterfly-shaped Lorenz attractor.\n",
    "\n",
    "With the following lines of code, we just generate the dataset for SINDy and plot some trajectories.\n",
    "\n",
    "**Disclaimer**: of course, here we use the equations defining the Lorenz system just to generate the data.\n",
    "If we had access to the dynamical term $\\boldsymbol{f}$, there would be no need to use SINDy."
   ]
  },
  {
   "cell_type": "code",
   "execution_count": null,
   "id": "3e7c600b",
   "metadata": {},
   "outputs": [],
   "source": [
    "sigma, rho, beta = 10.0, 28.0, 8 / 3\n",
    "\n",
    "\n",
    "def lorenz(x, t):\n",
    "    dx = np.zeros(3)\n",
    "    dx[0] = sigma * (x[1] - x[0])\n",
    "    dx[1] = x[0] * (rho - x[2]) - x[1]\n",
    "    dx[2] = x[0] * x[1] - beta * x[2]\n",
    "    return dx\n",
    "\n",
    "\n",
    "n_ic_s = 200  # number of initial conditions\n",
    "T = 1000  # number of timesteps\n",
    "dt = 0.001  # timestep\n",
    "t = np.linspace(0, (T - 1) * dt, T)\n",
    "dim = 3\n",
    "\n",
    "x0s = (np.random.rand(n_ic_s, dim) - 0.5) * 30.0  # Random initial conditions\n",
    "\n",
    "X = np.zeros((n_ic_s, T, dim))\n",
    "for i in range(n_ic_s):\n",
    "    X[i] = odeint(lorenz, x0s[i], t)  # integrated trajectories\n",
    "\n",
    "\n",
    "def plot_n_conditions(X, n_to_plot):\n",
    "    fig = plt.figure(figsize=(6, 5))\n",
    "    ax = fig.add_subplot(111, projection=\"3d\")\n",
    "\n",
    "    for i in range(n_to_plot):\n",
    "        ax.plot(X[i, :, 0], X[i, :, 1], X[i, :, 2], lw=1)\n",
    "\n",
    "    ax.set_xlabel(\"$x$\")\n",
    "    ax.set_ylabel(\"$y$\")\n",
    "    ax.set_zlabel(\"$z$\")\n",
    "\n",
    "    plt.tight_layout()\n",
    "    plt.show()\n",
    "\n",
    "\n",
    "plot_n_conditions(X, n_ic_s)"
   ]
  },
  {
   "cell_type": "markdown",
   "id": "a892f938",
   "metadata": {},
   "source": [
    "## Sparse Identification of Nonlinear Dynamics\n",
    "The core idea of SINDy is to model $\\boldsymbol f$ as a linear combination of functions in a library $\\Theta$ of **candidate** functions.\n",
    "In other words, assume that we have $r$ functions which might be suitable to describe the system's dynamics (_e.g._, $x,\\, y,\\, x^2,\\, xz,\\, \\dots,\\,\\sin(x)$, $\\dots$).\n",
    "For each component of $\\boldsymbol{f}$ at a given point $\\boldsymbol{x}$, we want to write\n",
    "$$\n",
    "\\dot{x}_i = f_i(\\boldsymbol{x}) = \\sum_{k}\\Theta(\\boldsymbol{x})_{k}\\xi_{k,i},\n",
    "$$\n",
    "with $\\boldsymbol{\\xi}_i\\in\\mathbb{R}^r$ a vector of **coefficients** telling us which terms are active in the expression of $f_i$.\n",
    "\n",
    "Since we are in a supervised setting, we assume that we have at our disposal the snapshot matrix $\\boldsymbol{X}$ and a matrix $\\dot{\\boldsymbol{X}}$ containing time **derivatives** at the corresponding time instances.\n",
    "Then, we can just impose that the previous relation holds on the data at our disposal.\n",
    "That is, our optimization problem will read as follows:\n",
    "$$\n",
    "\\min_{\\boldsymbol{\\Xi}}\\|\\dot{\\boldsymbol{X}}-\\Theta(\\boldsymbol{X})\\boldsymbol{\\Xi}\\|_2^2.\n",
    "$$\n",
    "\n",
    "Notice, however, that the solution to the previous equation might not be **sparse**, as there might be many non-zero terms in it.\n",
    "In practice, many physical systems are described by a parsimonious and **interpretable** set of equations.\n",
    "Thus, we also impose a $L^1$ **penalization** on the model weights, encouraging them to be small in magnitude and trying to enforce sparsity.\n",
    "The final loss is then expressed as\n",
    "\n",
    "$$\n",
    "\\min_{\\boldsymbol{\\Xi}}\\bigl(\\|\\dot{\\boldsymbol{X}}-\\Theta(\\boldsymbol{X})\\boldsymbol{\\Xi}\\|_2^2 + \\lambda\\|\\boldsymbol{\\Xi}\\|_1\\bigr),\n",
    "$$\n",
    "with $\\lambda\\in\\mathbb{R}^+$ a hyperparameter.\n",
    "\n",
    "Let us begin by computing the time derivatives of the data.\n",
    "Of course, usually we do not have access to the exact time derivatives of the system, meaning that $\\dot{\\boldsymbol{X}}$ needs to be **approximated**.\n",
    "Here we do it using a simple Finite Difference (FD) scheme, but [more sophisticated ideas](https://arxiv.org/abs/2505.16058) could be considered."
   ]
  },
  {
   "cell_type": "code",
   "execution_count": null,
   "id": "0480bd46",
   "metadata": {},
   "outputs": [],
   "source": [
    "dXdt = np.gradient(X, t, axis=1, edge_order=2)\n",
    "X_torch = torch.tensor(X, dtype=torch.float32).reshape(\n",
    "    (-1, dim)\n",
    ")  # X_torch has shape (B, dim)\n",
    "dXdt_torch = torch.tensor(dXdt, dtype=torch.float32).reshape((-1, dim))"
   ]
  },
  {
   "cell_type": "markdown",
   "id": "3f0c5cab",
   "metadata": {},
   "source": [
    "We create two `LabelTensor` objects to keep everything as readable as possible."
   ]
  },
  {
   "cell_type": "code",
   "execution_count": null,
   "id": "af16aa54",
   "metadata": {},
   "outputs": [],
   "source": [
    "X_torch = LabelTensor(X_torch, [\"x\", \"y\", \"z\"])\n",
    "dXdt_torch = LabelTensor(dXdt_torch, [\"dxdt\", \"dydt\", \"dzdt\"])"
   ]
  },
  {
   "cell_type": "markdown",
   "id": "42ca14b1",
   "metadata": {},
   "source": [
    "Now we define the **library of candidate functions**.\n",
    "In our case, it will consist of polynomials of degree at most $2$ in the state variables.\n",
    "While the `SINDy` class in **PINA** expects a **list** of callables, here we define also dictionary, as its keys will be used to print the retrieved equations, enhancing the model interpretability and allowing it to be compared to the original Lorenz system.\n",
    "Notice how readable the code is as a result of the use of the `LabelTensor` class!"
   ]
  },
  {
   "cell_type": "code",
   "execution_count": null,
   "id": "805a5aee",
   "metadata": {},
   "outputs": [],
   "source": [
    "function_dict = {\n",
    "    \"1\": lambda u: torch.ones(u.shape[0], 1, device=u.device),  # 1\n",
    "    \"x\": lambda u: u[\"x\"],  # x\n",
    "    \"y\": lambda u: u[\"y\"],  # y\n",
    "    \"z\": lambda u: u[\"z\"],  # z\n",
    "    \"x^2\": lambda u: u[\"x\"].pow(2),  # x^2\n",
    "    \"y^2\": lambda u: u[\"y\"].pow(2),  # y^2\n",
    "    \"z^2\": lambda u: u[\"z\"].pow(2),  # z^2\n",
    "    \"xy\": lambda u: u[\"x\"] * u[\"y\"],  # xy\n",
    "    \"xz\": lambda u: u[\"x\"] * u[\"z\"],  # xz\n",
    "    \"yz\": lambda u: u[\"y\"] * u[\"z\"],  # yz\n",
    "}\n",
    "\n",
    "function_library = [\n",
    "    _function for _function in function_dict.values()\n",
    "]  # input of the model constructor"
   ]
  },
  {
   "cell_type": "markdown",
   "id": "f122e52c",
   "metadata": {},
   "source": [
    "## Training with PINA\n",
    "We are now ready to train our model! We can use **PINA** to train the model, following the workflow from previous tutorials.\n",
    "First, we need to define the problem. In this case, we will use the [`SupervisedProblem`](https://mathlab.github.io/PINA/_rst/problem/zoo/supervised_problem.html#module-pina.problem.zoo.supervised_problem), which expects:  \n",
    "\n",
    "- **Input**: the state variables tensor $\\boldsymbol{X}$ containing all the collected snapshots.  \n",
    "- **Output**: the corresponding time derivatives $\\dot{\\boldsymbol{X}}$."
   ]
  },
  {
   "cell_type": "code",
   "execution_count": null,
   "id": "2e94b470",
   "metadata": {},
   "outputs": [],
   "source": [
    "_lambda = 1e-3\n",
    "\n",
    "model = SINDy(function_library, dim)\n",
    "problem = SupervisedProblem(X_torch, dXdt_torch)"
   ]
  },
  {
   "cell_type": "markdown",
   "id": "849b4a33",
   "metadata": {},
   "source": [
    "Finally, we will use the `SupervisedSolver` to perform the training as we're dealing with a supervised problem.\n",
    "\n",
    "Recall that we should use $L^1$-regularization on the model's weights to ensure sparsity. For the ease of implementation, we adopt $L^2$ regularization, which is less common in SINDy literature but will suffice in our case.\n",
    "Additionally, more refined strategies could be used, for instance pruning coefficients below a certain **threshold** at every fixed number of epochs, but here we avoid further complications."
   ]
  },
  {
   "cell_type": "code",
   "execution_count": null,
   "id": "f19a48b3",
   "metadata": {},
   "outputs": [],
   "source": [
    "solver = SupervisedSolver(\n",
    "    problem,\n",
    "    model=model,\n",
    "    optimizer=TorchOptimizer(torch.optim.Adam, lr=1e-3, weight_decay=_lambda),\n",
    "    use_lt=False,\n",
    ")"
   ]
  },
  {
   "cell_type": "markdown",
   "id": "41e1636e",
   "metadata": {},
   "source": [
    "Training is performed as usual using the **`Trainer`** API."
   ]
  },
  {
   "cell_type": "code",
   "execution_count": null,
   "id": "02931534",
   "metadata": {},
   "outputs": [],
   "source": [
    "trainer = Trainer(\n",
    "    solver,\n",
    "    accelerator=\"cpu\",\n",
    "    max_epochs=150,\n",
    "    train_size=0.8,\n",
    "    val_size=0.1,\n",
    "    test_size=0.1,\n",
    "    shuffle=True,\n",
    "    batch_size=512,\n",
    "    enable_model_summary=False,\n",
    ")\n",
    "\n",
    "trainer.train()"
   ]
  },
  {
   "cell_type": "markdown",
   "id": "b725dc65",
   "metadata": {},
   "source": [
    "Now we'll print the identified equations and compare them with the original ones.\n",
    "\n",
    "Before going on, we underline that after training there might be many coefficients that are small, yet still non-zero.\n",
    "It is common for SINDy practitioners to interpret these coefficients as noise in the model and prune them.\n",
    "This is typically done by fixing a threshold $\\tau\\in\\mathbb{R}^+$ and setting to $0$ all those $\\xi_{i,j}$ such that $|\\xi_{i,j}|<\\tau$.\n",
    "\n",
    "In the following cell, we also define a function to print the identified model."
   ]
  },
  {
   "cell_type": "code",
   "execution_count": null,
   "id": "786ad778",
   "metadata": {},
   "outputs": [],
   "source": [
    "def print_coefficients(model, function_names, tau, vars=None):\n",
    "    with torch.no_grad():\n",
    "        Xi = model.coefficients.data.cpu().numpy()\n",
    "\n",
    "    library_dim, dim = Xi.shape\n",
    "\n",
    "    for j in range(dim):\n",
    "        terms = []\n",
    "        for i in range(library_dim):\n",
    "            coefficient = Xi[i, j]\n",
    "            if (\n",
    "                abs(coefficient) > tau\n",
    "            ):  # do not print coefficients that are going to be pruned\n",
    "                function_name = function_names[i]\n",
    "                terms.append(f\"{coefficient:+.2f} * {function_name} \")\n",
    "\n",
    "        equation = \" \".join(terms)\n",
    "\n",
    "        if not equation:\n",
    "            equation = \"0\"\n",
    "        if vars is not None:\n",
    "            print(f\"d{vars[j]}/dt = {equation}\")\n",
    "        else:\n",
    "            print(f\"d(State_{j+1})/dt = {equation}\")\n",
    "\n",
    "\n",
    "tau = 1e-1\n",
    "\n",
    "print_coefficients(model, list(function_dict.keys()), tau, vars=[\"x\", \"y\", \"z\"])\n",
    "\n",
    "with torch.no_grad():  # prune coefficients\n",
    "    mask = torch.abs(model.coefficients) >= tau\n",
    "    model.coefficients.data *= mask"
   ]
  },
  {
   "cell_type": "markdown",
   "id": "c6054546",
   "metadata": {},
   "source": [
    "Good! While there are small errors on some of the coefficients, the active terms in the library have been correctly identified (recall that the original system reads as follows):\n",
    "$$\n",
    "\\begin{cases}\n",
    "\\dot{x}=-10x+10y\\\\\n",
    "\\dot{y}=28x - y-xz\\\\\n",
    "\\dot{z}=-\\frac{8}{3} z+xy.\n",
    "\\end{cases}\n",
    "$$\n",
    "\n",
    "That's a good result, especially considering that we did not perform tuning on the weight decay hyperparameter $\\lambda$ and did not really care much about other optimization parameters.\n",
    "\n",
    "Let's plot a few trajectories!"
   ]
  },
  {
   "cell_type": "code",
   "execution_count": null,
   "id": "b9b8f972",
   "metadata": {},
   "outputs": [],
   "source": [
    "def SINDy_equations(x, t):  # we need a numpy array for odeint\n",
    "    with torch.no_grad():\n",
    "        x_torch = torch.tensor(x, dtype=torch.float32).unsqueeze(\n",
    "            0\n",
    "        )  # shape (1, dim)\n",
    "        x_torch = LabelTensor(x_torch, [\"x\", \"y\", \"z\"])\n",
    "        dx = model(x_torch).squeeze(0)\n",
    "    return dx.numpy()\n",
    "\n",
    "\n",
    "n_ic_s_test = 50\n",
    "x0s = (np.random.rand(n_ic_s_test, dim) - 0.5) * 30.0\n",
    "\n",
    "X_sim = np.zeros((n_ic_s_test, T, dim))\n",
    "for i in range(n_ic_s_test):\n",
    "    X_sim[i] = odeint(SINDy_equations, x0s[i], t)\n",
    "\n",
    "plot_n_conditions(X_sim, n_ic_s_test)"
   ]
  },
  {
   "cell_type": "markdown",
   "id": "de956cbe",
   "metadata": {},
   "source": [
    "Great! We can see that the qualitative behavior of the system is really close to the real one.\n",
    "\n",
    "## What's next?\n",
    "Congratulations on completing the introductory tutorial on **Data-driven System Identification with SINDy**! Now that you have a solid foundation, here are a few directions to explore:\n",
    "\n",
    "1. **Experiment with Dimensionality Reduction techniques** — Try to combine SINDy with different reductions techniques such as POD or autoencoders - or both of them, as done [here](https://www.sciencedirect.com/science/article/abs/pii/S0045793025003019). \n",
    "\n",
    "2. **Study Parameterized Systems** — Write your own SINDy model for parameterized problems.\n",
    "\n",
    "3. **...and many more!** — The possibilities are vast! Continue experimenting with advanced configurations, solvers, and features in PINA.\n",
    "\n",
    "For more resources and tutorials, check out the [PINA Documentation](https://mathlab.github.io/PINA/)."
   ]
  }
 ],
 "metadata": {
  "kernelspec": {
   "display_name": "pina",
   "language": "python",
   "name": "python3"
  },
  "language_info": {
   "codemirror_mode": {
    "name": "ipython",
    "version": 3
   },
   "file_extension": ".py",
   "mimetype": "text/x-python",
   "name": "python",
   "nbconvert_exporter": "python",
   "pygments_lexer": "ipython3",
   "version": "3.12.11"
  }
 },
 "nbformat": 4,
 "nbformat_minor": 5
}
